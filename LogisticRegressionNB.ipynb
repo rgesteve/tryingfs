{
 "cells": [
  {
   "cell_type": "code",
   "execution_count": 3,
   "id": "ad334dd6",
   "metadata": {},
   "outputs": [
    {
     "data": {
      "text/html": [
       "<div><div></div><div></div><div><strong>Installed Packages</strong><ul><li><span>Microsoft.Data.Analysis, 0.19.0</span></li><li><span>Microsoft.ML, 1.7.0</span></li><li><span>XPlot.Plotly.Interactive, 4.0.6</span></li></ul></div></div>"
      ]
     },
     "metadata": {},
     "output_type": "display_data"
    },
    {
     "data": {
      "text/markdown": [
       "Loading extensions from `Microsoft.Data.Analysis.Interactive.dll`"
      ]
     },
     "metadata": {},
     "output_type": "display_data"
    },
    {
     "data": {
      "text/markdown": [
       "Loading extensions from `XPlot.Plotly.Interactive.dll`"
      ]
     },
     "metadata": {},
     "output_type": "display_data"
    },
    {
     "data": {
      "text/markdown": [
       "Configuring PowerShell Kernel for XPlot.Plotly integration."
      ]
     },
     "metadata": {},
     "output_type": "display_data"
    },
    {
     "data": {
      "text/markdown": [
       "Installed support for XPlot.Plotly."
      ]
     },
     "metadata": {},
     "output_type": "display_data"
    }
   ],
   "source": [
    "#r \"nuget:Microsoft.Data.Analysis, 0.19.0\"\n",
    "#r \"nuget: XPlot.Plotly.Interactive, 4.0.6\"\n",
    "#r \"nuget: Microsoft.ML, 1.7.0\"\n",
    "\n",
    "using Microsoft.Data.Analysis;\n",
    "using static Microsoft.DotNet.Interactive.Formatting.PocketViewTags;\n",
    "using Microsoft.DotNet.Interactive.Formatting;\n",
    "\n",
    "using Microsoft.ML.Data;\n",
    "using Microsoft.ML.Trainers;\n",
    "using Microsoft.ML.Transforms;"
   ]
  },
  {
   "cell_type": "code",
   "execution_count": 6,
   "id": "50425ceb",
   "metadata": {},
   "outputs": [],
   "source": [
    "var df = DataFrame.LoadCsv(\"data/winequality-red.csv\");"
   ]
  },
  {
   "cell_type": "code",
   "execution_count": 9,
   "id": "9b1e5ee0",
   "metadata": {},
   "outputs": [
    {
     "data": {
      "text/html": [
       "<table id=\"table_637749989132685171\"><thead><tr><th><i>index</i></th><th>fixed acidity</th><th>volatile acidity</th><th>citric acid</th><th>residual sugar</th><th>chlorides</th><th>free sulfur dioxide</th><th>total sulfur dioxide</th><th>density</th><th>pH</th><th>sulphates</th><th>alcohol</th><th>quality</th></tr></thead><tbody><tr><td><i><div class=\"dni-plaintext\">0</div></i></td><td><div class=\"dni-plaintext\">7.4</div></td><td><div class=\"dni-plaintext\">0.7</div></td><td><div class=\"dni-plaintext\">0</div></td><td><div class=\"dni-plaintext\">1.9</div></td><td><div class=\"dni-plaintext\">0.076</div></td><td><div class=\"dni-plaintext\">11</div></td><td><div class=\"dni-plaintext\">34</div></td><td><div class=\"dni-plaintext\">0.9978</div></td><td><div class=\"dni-plaintext\">3.51</div></td><td><div class=\"dni-plaintext\">0.56</div></td><td><div class=\"dni-plaintext\">9.4</div></td><td><div class=\"dni-plaintext\">5</div></td></tr><tr><td><i><div class=\"dni-plaintext\">1</div></i></td><td><div class=\"dni-plaintext\">7.8</div></td><td><div class=\"dni-plaintext\">0.88</div></td><td><div class=\"dni-plaintext\">0</div></td><td><div class=\"dni-plaintext\">2.6</div></td><td><div class=\"dni-plaintext\">0.098</div></td><td><div class=\"dni-plaintext\">25</div></td><td><div class=\"dni-plaintext\">67</div></td><td><div class=\"dni-plaintext\">0.9968</div></td><td><div class=\"dni-plaintext\">3.2</div></td><td><div class=\"dni-plaintext\">0.68</div></td><td><div class=\"dni-plaintext\">9.8</div></td><td><div class=\"dni-plaintext\">5</div></td></tr><tr><td><i><div class=\"dni-plaintext\">2</div></i></td><td><div class=\"dni-plaintext\">7.8</div></td><td><div class=\"dni-plaintext\">0.76</div></td><td><div class=\"dni-plaintext\">0.04</div></td><td><div class=\"dni-plaintext\">2.3</div></td><td><div class=\"dni-plaintext\">0.092</div></td><td><div class=\"dni-plaintext\">15</div></td><td><div class=\"dni-plaintext\">54</div></td><td><div class=\"dni-plaintext\">0.997</div></td><td><div class=\"dni-plaintext\">3.26</div></td><td><div class=\"dni-plaintext\">0.65</div></td><td><div class=\"dni-plaintext\">9.8</div></td><td><div class=\"dni-plaintext\">5</div></td></tr><tr><td><i><div class=\"dni-plaintext\">3</div></i></td><td><div class=\"dni-plaintext\">11.2</div></td><td><div class=\"dni-plaintext\">0.28</div></td><td><div class=\"dni-plaintext\">0.56</div></td><td><div class=\"dni-plaintext\">1.9</div></td><td><div class=\"dni-plaintext\">0.075</div></td><td><div class=\"dni-plaintext\">17</div></td><td><div class=\"dni-plaintext\">60</div></td><td><div class=\"dni-plaintext\">0.998</div></td><td><div class=\"dni-plaintext\">3.16</div></td><td><div class=\"dni-plaintext\">0.58</div></td><td><div class=\"dni-plaintext\">9.8</div></td><td><div class=\"dni-plaintext\">6</div></td></tr><tr><td><i><div class=\"dni-plaintext\">4</div></i></td><td><div class=\"dni-plaintext\">7.4</div></td><td><div class=\"dni-plaintext\">0.7</div></td><td><div class=\"dni-plaintext\">0</div></td><td><div class=\"dni-plaintext\">1.9</div></td><td><div class=\"dni-plaintext\">0.076</div></td><td><div class=\"dni-plaintext\">11</div></td><td><div class=\"dni-plaintext\">34</div></td><td><div class=\"dni-plaintext\">0.9978</div></td><td><div class=\"dni-plaintext\">3.51</div></td><td><div class=\"dni-plaintext\">0.56</div></td><td><div class=\"dni-plaintext\">9.4</div></td><td><div class=\"dni-plaintext\">5</div></td></tr><tr><td><i><div class=\"dni-plaintext\">5</div></i></td><td><div class=\"dni-plaintext\">7.4</div></td><td><div class=\"dni-plaintext\">0.66</div></td><td><div class=\"dni-plaintext\">0</div></td><td><div class=\"dni-plaintext\">1.8</div></td><td><div class=\"dni-plaintext\">0.075</div></td><td><div class=\"dni-plaintext\">13</div></td><td><div class=\"dni-plaintext\">40</div></td><td><div class=\"dni-plaintext\">0.9978</div></td><td><div class=\"dni-plaintext\">3.51</div></td><td><div class=\"dni-plaintext\">0.56</div></td><td><div class=\"dni-plaintext\">9.4</div></td><td><div class=\"dni-plaintext\">5</div></td></tr><tr><td><i><div class=\"dni-plaintext\">6</div></i></td><td><div class=\"dni-plaintext\">7.9</div></td><td><div class=\"dni-plaintext\">0.6</div></td><td><div class=\"dni-plaintext\">0.06</div></td><td><div class=\"dni-plaintext\">1.6</div></td><td><div class=\"dni-plaintext\">0.069</div></td><td><div class=\"dni-plaintext\">15</div></td><td><div class=\"dni-plaintext\">59</div></td><td><div class=\"dni-plaintext\">0.9964</div></td><td><div class=\"dni-plaintext\">3.3</div></td><td><div class=\"dni-plaintext\">0.46</div></td><td><div class=\"dni-plaintext\">9.4</div></td><td><div class=\"dni-plaintext\">5</div></td></tr><tr><td><i><div class=\"dni-plaintext\">7</div></i></td><td><div class=\"dni-plaintext\">7.3</div></td><td><div class=\"dni-plaintext\">0.65</div></td><td><div class=\"dni-plaintext\">0</div></td><td><div class=\"dni-plaintext\">1.2</div></td><td><div class=\"dni-plaintext\">0.065</div></td><td><div class=\"dni-plaintext\">15</div></td><td><div class=\"dni-plaintext\">21</div></td><td><div class=\"dni-plaintext\">0.9946</div></td><td><div class=\"dni-plaintext\">3.39</div></td><td><div class=\"dni-plaintext\">0.47</div></td><td><div class=\"dni-plaintext\">10</div></td><td><div class=\"dni-plaintext\">7</div></td></tr><tr><td><i><div class=\"dni-plaintext\">8</div></i></td><td><div class=\"dni-plaintext\">7.8</div></td><td><div class=\"dni-plaintext\">0.58</div></td><td><div class=\"dni-plaintext\">0.02</div></td><td><div class=\"dni-plaintext\">2</div></td><td><div class=\"dni-plaintext\">0.073</div></td><td><div class=\"dni-plaintext\">9</div></td><td><div class=\"dni-plaintext\">18</div></td><td><div class=\"dni-plaintext\">0.9968</div></td><td><div class=\"dni-plaintext\">3.36</div></td><td><div class=\"dni-plaintext\">0.57</div></td><td><div class=\"dni-plaintext\">9.5</div></td><td><div class=\"dni-plaintext\">7</div></td></tr><tr><td><i><div class=\"dni-plaintext\">9</div></i></td><td><div class=\"dni-plaintext\">7.5</div></td><td><div class=\"dni-plaintext\">0.5</div></td><td><div class=\"dni-plaintext\">0.36</div></td><td><div class=\"dni-plaintext\">6.1</div></td><td><div class=\"dni-plaintext\">0.071</div></td><td><div class=\"dni-plaintext\">17</div></td><td><div class=\"dni-plaintext\">102</div></td><td><div class=\"dni-plaintext\">0.9978</div></td><td><div class=\"dni-plaintext\">3.35</div></td><td><div class=\"dni-plaintext\">0.8</div></td><td><div class=\"dni-plaintext\">10.5</div></td><td><div class=\"dni-plaintext\">5</div></td></tr></tbody></table>"
      ]
     },
     "execution_count": 9,
     "metadata": {},
     "output_type": "execute_result"
    }
   ],
   "source": [
    "df.Head(numberOfRows: 10)"
   ]
  },
  {
   "cell_type": "code",
   "execution_count": 11,
   "id": "4ca5790d",
   "metadata": {},
   "outputs": [],
   "source": [
    "var cols = df.Columns.ToList();"
   ]
  },
  {
   "cell_type": "code",
   "execution_count": 15,
   "id": "dd3e2191",
   "metadata": {},
   "outputs": [
    {
     "data": {
      "text/html": [
       "<table><thead><tr><th><i>index</i></th><th>value</th></tr></thead><tbody><tr><td>0</td><td><span><a href=\"https://docs.microsoft.com/dotnet/api/system.single?view=net-5.0\">System.Single</a></span></td></tr><tr><td>1</td><td><span><a href=\"https://docs.microsoft.com/dotnet/api/system.single?view=net-5.0\">System.Single</a></span></td></tr><tr><td>2</td><td><span><a href=\"https://docs.microsoft.com/dotnet/api/system.single?view=net-5.0\">System.Single</a></span></td></tr><tr><td>3</td><td><span><a href=\"https://docs.microsoft.com/dotnet/api/system.single?view=net-5.0\">System.Single</a></span></td></tr><tr><td>4</td><td><span><a href=\"https://docs.microsoft.com/dotnet/api/system.single?view=net-5.0\">System.Single</a></span></td></tr><tr><td>5</td><td><span><a href=\"https://docs.microsoft.com/dotnet/api/system.single?view=net-5.0\">System.Single</a></span></td></tr><tr><td>6</td><td><span><a href=\"https://docs.microsoft.com/dotnet/api/system.single?view=net-5.0\">System.Single</a></span></td></tr><tr><td>7</td><td><span><a href=\"https://docs.microsoft.com/dotnet/api/system.single?view=net-5.0\">System.Single</a></span></td></tr><tr><td>8</td><td><span><a href=\"https://docs.microsoft.com/dotnet/api/system.single?view=net-5.0\">System.Single</a></span></td></tr><tr><td>9</td><td><span><a href=\"https://docs.microsoft.com/dotnet/api/system.single?view=net-5.0\">System.Single</a></span></td></tr><tr><td>10</td><td><span><a href=\"https://docs.microsoft.com/dotnet/api/system.single?view=net-5.0\">System.Single</a></span></td></tr><tr><td>11</td><td><span><a href=\"https://docs.microsoft.com/dotnet/api/system.single?view=net-5.0\">System.Single</a></span></td></tr></tbody></table>"
      ]
     },
     "execution_count": 15,
     "metadata": {},
     "output_type": "execute_result"
    }
   ],
   "source": [
    "df.Columns.Select(x => x.DataType)"
   ]
  },
  {
   "cell_type": "code",
   "execution_count": 26,
   "id": "9327f61e",
   "metadata": {},
   "outputs": [
    {
     "data": {
      "text/html": [
       "<table><thead><tr><th><i>index</i></th><th>value</th></tr></thead><tbody><tr><td>0</td><td>fixed acidity</td></tr><tr><td>1</td><td>volatile acidity</td></tr><tr><td>2</td><td>citric acid</td></tr><tr><td>3</td><td>residual sugar</td></tr><tr><td>4</td><td>chlorides</td></tr><tr><td>5</td><td>free sulfur dioxide</td></tr><tr><td>6</td><td>total sulfur dioxide</td></tr><tr><td>7</td><td>density</td></tr><tr><td>8</td><td>pH</td></tr><tr><td>9</td><td>sulphates</td></tr><tr><td>10</td><td>alcohol</td></tr><tr><td>11</td><td>quality</td></tr></tbody></table>"
      ]
     },
     "execution_count": 26,
     "metadata": {},
     "output_type": "execute_result"
    }
   ],
   "source": [
    "df.Columns.Select(x => x.Name)"
   ]
  },
  {
   "cell_type": "code",
   "execution_count": 10,
   "id": "9047dbfc",
   "metadata": {},
   "outputs": [
    {
     "name": "stderr",
     "output_type": "stream",
     "text": [
      "\n",
      "(1,20): error CS1061: 'IEnumerable<DataFrameColumn>' does not contain a definition for 'Name' and no accessible extension method 'Name' accepting a first argument of type 'IEnumerable<DataFrameColumn>' could be found (are you missing a using directive or an assembly reference?)\n",
      "\n"
     ]
    },
    {
     "ename": "Cell not executed",
     "evalue": "compilation error",
     "output_type": "error",
     "traceback": []
    }
   ],
   "source": [
    "df.Columns.Take(1).Name"
   ]
  },
  {
   "cell_type": "code",
   "execution_count": 24,
   "id": "32545f55",
   "metadata": {},
   "outputs": [
    {
     "data": {
      "text/html": [
       "<div class=\"dni-plaintext\">1599</div>"
      ]
     },
     "execution_count": 24,
     "metadata": {},
     "output_type": "execute_result"
    }
   ],
   "source": [
    "df.Rows.Count()"
   ]
  },
  {
   "cell_type": "code",
   "execution_count": 25,
   "id": "2fcc65de",
   "metadata": {},
   "outputs": [
    {
     "data": {
      "text/html": [
       "<table id=\"table_637748919893633708\"><thead><tr><th><i>index</i></th><th>fixed acidity</th><th>volatile acidity</th><th>citric acid</th><th>residual sugar</th><th>chlorides</th><th>free sulfur dioxide</th><th>total sulfur dioxide</th><th>density</th><th>pH</th><th>sulphates</th><th>alcohol</th><th>quality</th></tr></thead><tbody><tr><td><i><div class=\"dni-plaintext\">0</div></i></td><td><div class=\"dni-plaintext\">7.2</div></td><td><div class=\"dni-plaintext\">0.725</div></td><td><div class=\"dni-plaintext\">0.05</div></td><td><div class=\"dni-plaintext\">4.65</div></td><td><div class=\"dni-plaintext\">0.086</div></td><td><div class=\"dni-plaintext\">4</div></td><td><div class=\"dni-plaintext\">11</div></td><td><div class=\"dni-plaintext\">0.9962</div></td><td><div class=\"dni-plaintext\">3.41</div></td><td><div class=\"dni-plaintext\">0.39</div></td><td><div class=\"dni-plaintext\">10.9</div></td><td><div class=\"dni-plaintext\">5</div></td></tr><tr><td><i><div class=\"dni-plaintext\">1</div></i></td><td><div class=\"dni-plaintext\">6.9</div></td><td><div class=\"dni-plaintext\">1.09</div></td><td><div class=\"dni-plaintext\">0.06</div></td><td><div class=\"dni-plaintext\">2.1</div></td><td><div class=\"dni-plaintext\">0.061</div></td><td><div class=\"dni-plaintext\">12</div></td><td><div class=\"dni-plaintext\">31</div></td><td><div class=\"dni-plaintext\">0.9948</div></td><td><div class=\"dni-plaintext\">3.51</div></td><td><div class=\"dni-plaintext\">0.43</div></td><td><div class=\"dni-plaintext\">11.4</div></td><td><div class=\"dni-plaintext\">4</div></td></tr><tr><td><i><div class=\"dni-plaintext\">2</div></i></td><td><div class=\"dni-plaintext\">9.3</div></td><td><div class=\"dni-plaintext\">0.39</div></td><td><div class=\"dni-plaintext\">0.44</div></td><td><div class=\"dni-plaintext\">2.1</div></td><td><div class=\"dni-plaintext\">0.107</div></td><td><div class=\"dni-plaintext\">34</div></td><td><div class=\"dni-plaintext\">125</div></td><td><div class=\"dni-plaintext\">0.9978</div></td><td><div class=\"dni-plaintext\">3.14</div></td><td><div class=\"dni-plaintext\">1.22</div></td><td><div class=\"dni-plaintext\">9.5</div></td><td><div class=\"dni-plaintext\">5</div></td></tr><tr><td><i><div class=\"dni-plaintext\">3</div></i></td><td><div class=\"dni-plaintext\">6.6</div></td><td><div class=\"dni-plaintext\">0.58</div></td><td><div class=\"dni-plaintext\">0</div></td><td><div class=\"dni-plaintext\">2.2</div></td><td><div class=\"dni-plaintext\">0.1</div></td><td><div class=\"dni-plaintext\">50</div></td><td><div class=\"dni-plaintext\">63</div></td><td><div class=\"dni-plaintext\">0.99544</div></td><td><div class=\"dni-plaintext\">3.59</div></td><td><div class=\"dni-plaintext\">0.68</div></td><td><div class=\"dni-plaintext\">11.4</div></td><td><div class=\"dni-plaintext\">6</div></td></tr><tr><td><i><div class=\"dni-plaintext\">4</div></i></td><td><div class=\"dni-plaintext\">7.9</div></td><td><div class=\"dni-plaintext\">0.37</div></td><td><div class=\"dni-plaintext\">0.23</div></td><td><div class=\"dni-plaintext\">1.8</div></td><td><div class=\"dni-plaintext\">0.077</div></td><td><div class=\"dni-plaintext\">23</div></td><td><div class=\"dni-plaintext\">49</div></td><td><div class=\"dni-plaintext\">0.9963</div></td><td><div class=\"dni-plaintext\">3.28</div></td><td><div class=\"dni-plaintext\">0.67</div></td><td><div class=\"dni-plaintext\">9.3</div></td><td><div class=\"dni-plaintext\">5</div></td></tr><tr><td><i><div class=\"dni-plaintext\">5</div></i></td><td><div class=\"dni-plaintext\">6.9</div></td><td><div class=\"dni-plaintext\">0.4</div></td><td><div class=\"dni-plaintext\">0.14</div></td><td><div class=\"dni-plaintext\">2.4</div></td><td><div class=\"dni-plaintext\">0.085</div></td><td><div class=\"dni-plaintext\">21</div></td><td><div class=\"dni-plaintext\">40</div></td><td><div class=\"dni-plaintext\">0.9968</div></td><td><div class=\"dni-plaintext\">3.43</div></td><td><div class=\"dni-plaintext\">0.63</div></td><td><div class=\"dni-plaintext\">9.7</div></td><td><div class=\"dni-plaintext\">6</div></td></tr><tr><td><i><div class=\"dni-plaintext\">6</div></i></td><td><div class=\"dni-plaintext\">6.9</div></td><td><div class=\"dni-plaintext\">0.63</div></td><td><div class=\"dni-plaintext\">0.01</div></td><td><div class=\"dni-plaintext\">2.4</div></td><td><div class=\"dni-plaintext\">0.076</div></td><td><div class=\"dni-plaintext\">14</div></td><td><div class=\"dni-plaintext\">39</div></td><td><div class=\"dni-plaintext\">0.99522</div></td><td><div class=\"dni-plaintext\">3.34</div></td><td><div class=\"dni-plaintext\">0.53</div></td><td><div class=\"dni-plaintext\">10.8</div></td><td><div class=\"dni-plaintext\">6</div></td></tr><tr><td><i><div class=\"dni-plaintext\">7</div></i></td><td><div class=\"dni-plaintext\">8.4</div></td><td><div class=\"dni-plaintext\">0.56</div></td><td><div class=\"dni-plaintext\">0.04</div></td><td><div class=\"dni-plaintext\">2</div></td><td><div class=\"dni-plaintext\">0.082</div></td><td><div class=\"dni-plaintext\">10</div></td><td><div class=\"dni-plaintext\">22</div></td><td><div class=\"dni-plaintext\">0.9976</div></td><td><div class=\"dni-plaintext\">3.22</div></td><td><div class=\"dni-plaintext\">0.44</div></td><td><div class=\"dni-plaintext\">9.6</div></td><td><div class=\"dni-plaintext\">5</div></td></tr><tr><td><i><div class=\"dni-plaintext\">8</div></i></td><td><div class=\"dni-plaintext\">8.1</div></td><td><div class=\"dni-plaintext\">1.33</div></td><td><div class=\"dni-plaintext\">0</div></td><td><div class=\"dni-plaintext\">1.8</div></td><td><div class=\"dni-plaintext\">0.082</div></td><td><div class=\"dni-plaintext\">3</div></td><td><div class=\"dni-plaintext\">12</div></td><td><div class=\"dni-plaintext\">0.9964</div></td><td><div class=\"dni-plaintext\">3.54</div></td><td><div class=\"dni-plaintext\">0.48</div></td><td><div class=\"dni-plaintext\">10.9</div></td><td><div class=\"dni-plaintext\">5</div></td></tr><tr><td><i><div class=\"dni-plaintext\">9</div></i></td><td><div class=\"dni-plaintext\">6.9</div></td><td><div class=\"dni-plaintext\">0.51</div></td><td><div class=\"dni-plaintext\">0.23</div></td><td><div class=\"dni-plaintext\">2</div></td><td><div class=\"dni-plaintext\">0.072</div></td><td><div class=\"dni-plaintext\">13</div></td><td><div class=\"dni-plaintext\">22</div></td><td><div class=\"dni-plaintext\">0.99438</div></td><td><div class=\"dni-plaintext\">3.4</div></td><td><div class=\"dni-plaintext\">0.84</div></td><td><div class=\"dni-plaintext\">11.2</div></td><td><div class=\"dni-plaintext\">6</div></td></tr></tbody></table>"
      ]
     },
     "execution_count": 25,
     "metadata": {},
     "output_type": "execute_result"
    }
   ],
   "source": [
    "df.Sample(10)"
   ]
  },
  {
   "cell_type": "code",
   "execution_count": 10,
   "id": "099b146a",
   "metadata": {},
   "outputs": [],
   "source": [
    "public class WineRecord\n",
    "{\n",
    "    //[LoadColumn(0), ColumnName(\"fixed acidity\")]\n",
    "    [LoadColumn(0)]\n",
    "    public Single FixedAcidity { get; set; }\n",
    "\n",
    "    //[LoadColumn(1), ColumnName(\"volatile acidity\")]\n",
    "    [LoadColumn(1)]\n",
    "    public Single VolatileAcidity { get; set; }\n",
    "\n",
    "    //[LoadColumn(2), ColumnName(\"citric acid\")]\n",
    "    [LoadColumn(2)]\n",
    "    public Single CitricAcid { get; set; }\n",
    "\n",
    "    //[LoadColumn(3), ColumnName(\"residual sugar\")]\n",
    "    [LoadColumn(3)]\n",
    "    public Single ResidualSugar { get; set; }\n",
    "    \n",
    "    //[LoadColumn(4), ColumnName(\"chlorides\")]\n",
    "    [LoadColumn(4)]\n",
    "    public Single Chlorides { get; set; }\n",
    "    \n",
    "    //[LoadColumn(5), ColumnName(\"free sulfur dioxide\")]\n",
    "    [LoadColumn(5)]\n",
    "    public Single FreeSulfurDioxide { get; set; }\n",
    "\n",
    "    //[LoadColumn(6), ColumnName(\"total sulfur dioxide\")]\n",
    "    [LoadColumn(6)]\n",
    "    public Single TotalSulfurDioxide { get; set; }\n",
    "\n",
    "    //[LoadColumn(7), ColumnName(\"density\")]\n",
    "    [LoadColumn(7)]\n",
    "    public Single Density { get; set; }\n",
    "    \n",
    "    //[LoadColumn(8), ColumnName(\"pH\")]\n",
    "    [LoadColumn(8)]\n",
    "    public Single Ph { get; set; }\n",
    "    \n",
    "    //[LoadColumn(9), ColumnName(\"sulphates\")]\n",
    "    [LoadColumn(9)]\n",
    "    public Single Sulphates { get; set; }\n",
    "    \n",
    "    //[LoadColumn(10), ColumnName(\"alcohol\")]\n",
    "    [LoadColumn(10)]\n",
    "    public Single Alcohol { get; set; }\n",
    "      \n",
    "    //[LoadColumn(11), ColumnName(\"quality\")]\n",
    "    [LoadColumn(11)]\n",
    "    public bool Quality { get; set; }\n",
    "};"
   ]
  },
  {
   "cell_type": "code",
   "execution_count": 5,
   "id": "225ab3f5",
   "metadata": {},
   "outputs": [],
   "source": [
    "using Microsoft.ML;\n",
    "\n",
    "MLContext mlCtxt = new MLContext();"
   ]
  },
  {
   "cell_type": "code",
   "execution_count": 11,
   "id": "4ad1d3b1",
   "metadata": {},
   "outputs": [],
   "source": [
    "// Load the data into a data view.\n",
    "var trainData = mlCtxt.Data.LoadFromTextFile<WineRecord>(\"data/winequality-red-scaled-classify.csv\",\n",
    "                separatorChar: ',',\n",
    "                hasHeader: true\n",
    ");"
   ]
  },
  {
   "cell_type": "code",
   "execution_count": 1,
   "id": "293a90a1",
   "metadata": {},
   "outputs": [
    {
     "data": {
      "text/html": [
       "\r\n",
       "<div>\r\n",
       "    <div id='dotnet-interactive-this-cell-2739.Microsoft.DotNet.Interactive.Http.HttpPort' style='display: none'>\r\n",
       "        The below script needs to be able to find the current output cell; this is an easy method to get it.\r\n",
       "    </div>\r\n",
       "    <script type='text/javascript'>\r\n",
       "async function probeAddresses(probingAddresses) {\r\n",
       "    function timeout(ms, promise) {\r\n",
       "        return new Promise(function (resolve, reject) {\r\n",
       "            setTimeout(function () {\r\n",
       "                reject(new Error('timeout'))\r\n",
       "            }, ms)\r\n",
       "            promise.then(resolve, reject)\r\n",
       "        })\r\n",
       "    }\r\n",
       "\r\n",
       "    if (Array.isArray(probingAddresses)) {\r\n",
       "        for (let i = 0; i < probingAddresses.length; i++) {\r\n",
       "\r\n",
       "            let rootUrl = probingAddresses[i];\r\n",
       "\r\n",
       "            if (!rootUrl.endsWith('/')) {\r\n",
       "                rootUrl = `${rootUrl}/`;\r\n",
       "            }\r\n",
       "\r\n",
       "            try {\r\n",
       "                let response = await timeout(1000, fetch(`${rootUrl}discovery`, {\r\n",
       "                    method: 'POST',\r\n",
       "                    cache: 'no-cache',\r\n",
       "                    mode: 'cors',\r\n",
       "                    timeout: 1000,\r\n",
       "                    headers: {\r\n",
       "                        'Content-Type': 'text/plain'\r\n",
       "                    },\r\n",
       "                    body: probingAddresses[i]\r\n",
       "                }));\r\n",
       "\r\n",
       "                if (response.status == 200) {\r\n",
       "                    return rootUrl;\r\n",
       "                }\r\n",
       "            }\r\n",
       "            catch (e) { }\r\n",
       "        }\r\n",
       "    }\r\n",
       "}\r\n",
       "\r\n",
       "function loadDotnetInteractiveApi() {\r\n",
       "    probeAddresses([\"http://172.16.5.4:1100/\", \"http://127.0.0.1:1100/\"])\r\n",
       "        .then((root) => {\r\n",
       "        // use probing to find host url and api resources\r\n",
       "        // load interactive helpers and language services\r\n",
       "        let dotnetInteractiveRequire = require.config({\r\n",
       "        context: '2739.Microsoft.DotNet.Interactive.Http.HttpPort',\r\n",
       "                paths:\r\n",
       "            {\r\n",
       "                'dotnet-interactive': `${root}resources`\r\n",
       "                }\r\n",
       "        }) || require;\r\n",
       "\r\n",
       "            window.dotnetInteractiveRequire = dotnetInteractiveRequire;\r\n",
       "\r\n",
       "            window.configureRequireFromExtension = function(extensionName, extensionCacheBuster) {\r\n",
       "                let paths = {};\r\n",
       "                paths[extensionName] = `${root}extensions/${extensionName}/resources/`;\r\n",
       "                \r\n",
       "                let internalRequire = require.config({\r\n",
       "                    context: extensionCacheBuster,\r\n",
       "                    paths: paths,\r\n",
       "                    urlArgs: `cacheBuster=${extensionCacheBuster}`\r\n",
       "                    }) || require;\r\n",
       "\r\n",
       "                return internalRequire\r\n",
       "            };\r\n",
       "        \r\n",
       "            dotnetInteractiveRequire([\r\n",
       "                    'dotnet-interactive/dotnet-interactive'\r\n",
       "                ],\r\n",
       "                function (dotnet) {\r\n",
       "                    dotnet.init(window);\r\n",
       "                },\r\n",
       "                function (error) {\r\n",
       "                    console.log(error);\r\n",
       "                }\r\n",
       "            );\r\n",
       "        })\r\n",
       "        .catch(error => {console.log(error);});\r\n",
       "    }\r\n",
       "\r\n",
       "// ensure `require` is available globally\r\n",
       "if ((typeof(require) !==  typeof(Function)) || (typeof(require.config) !== typeof(Function))) {\r\n",
       "    let require_script = document.createElement('script');\r\n",
       "    require_script.setAttribute('src', 'https://cdnjs.cloudflare.com/ajax/libs/require.js/2.3.6/require.min.js');\r\n",
       "    require_script.setAttribute('type', 'text/javascript');\r\n",
       "    \r\n",
       "    \r\n",
       "    require_script.onload = function() {\r\n",
       "        loadDotnetInteractiveApi();\r\n",
       "    };\r\n",
       "\r\n",
       "    document.getElementsByTagName('head')[0].appendChild(require_script);\r\n",
       "}\r\n",
       "else {\r\n",
       "    loadDotnetInteractiveApi();\r\n",
       "}\r\n",
       "\r\n",
       "    </script>\r\n",
       "</div>"
      ]
     },
     "metadata": {},
     "output_type": "display_data"
    },
    {
     "name": "stderr",
     "output_type": "stream",
     "text": [
      "\n",
      "(1,9): error CS0103: The name 'mlCtxt' does not exist in the current context\n",
      "\n"
     ]
    },
    {
     "ename": "Cell not executed",
     "evalue": "compilation error",
     "output_type": "error",
     "traceback": []
    }
   ],
   "source": [
    "var preproc = mlCtxt.Transforms.Concatenate(\"Features\", new[] { \"FixedAcidity\", \"VolatileAcidity\", \"CitricAcid\", \"ResidualSugar\",\n",
    "                                                          \"Chlorides\", \"FreeSulfurDioxide\", \"TotalSulfurDioxide\", \"Density\", \n",
    "                                                          \"Ph\", \"Sulphates\", \"Alcohol\"});"
   ]
  },
  {
   "cell_type": "code",
   "execution_count": null,
   "id": "8aa7edd7",
   "metadata": {},
   "outputs": [],
   "source": [
    "//var dataPipe = proproc.Append(mlCtxt.BinaryClassification.Trainers.LbfgsLogisticRegression({LabelColumnName : nameof()}));"
   ]
  },
  {
   "cell_type": "code",
   "execution_count": 12,
   "id": "fdcb2242",
   "metadata": {},
   "outputs": [],
   "source": [
    "var dfFromIDV = trainData.ToDataFrame(maxRows: -1); // set maxRows to -1 to read all rows"
   ]
  },
  {
   "cell_type": "code",
   "execution_count": 15,
   "id": "9a8fb40c",
   "metadata": {},
   "outputs": [
    {
     "data": {
      "text/plain": [
       "Quality"
      ]
     },
     "execution_count": 15,
     "metadata": {},
     "output_type": "execute_result"
    }
   ],
   "source": [
    "nameof(WineRecord.Quality)"
   ]
  },
  {
   "cell_type": "code",
   "execution_count": 21,
   "id": "4eb72b47",
   "metadata": {},
   "outputs": [
    {
     "name": "stderr",
     "output_type": "stream",
     "text": [
      "\n",
      "warning CS1701: Assuming assembly reference 'Microsoft.AspNetCore.Html.Abstractions, Version=2.2.0.0, Culture=neutral, PublicKeyToken=adb9793829ddae60' used by 'Microsoft.DotNet.Interactive.Formatting' matches identity 'Microsoft.AspNetCore.Html.Abstractions, Version=6.0.0.0, Culture=neutral, PublicKeyToken=adb9793829ddae60' of 'Microsoft.AspNetCore.Html.Abstractions', you may need to supply runtime policy\n",
      "\n"
     ]
    }
   ],
   "source": [
    "var dataPipe = mlCtxt.Transforms.Concatenate(\"Features\", nameof(WineRecord.Alcohol))\n",
    "              .Append(mlCtxt.BinaryClassification.Trainers.LbfgsLogisticRegression(labelColumnName : nameof(WineRecord.Quality)));"
   ]
  },
  {
   "cell_type": "code",
   "execution_count": 22,
   "id": "ea661660",
   "metadata": {},
   "outputs": [],
   "source": [
    "var d = dataPipe.Fit(trainData);"
   ]
  },
  {
   "cell_type": "code",
   "execution_count": 59,
   "id": "a7aed93b",
   "metadata": {},
   "outputs": [
    {
     "data": {
      "text/html": [
       "<table id=\"table_637748978588999283\"><thead><tr><th><i>index</i></th><th>FixedAcidity</th><th>VolatileAcidity</th><th>CitricAcid</th><th>ResidualSugar</th><th>Chlorides</th><th>FreeSulfurDioxide</th><th>TotalSulfurDioxide</th><th>Density</th><th>Ph</th><th>Sulphates</th><th>Alcohol</th><th>Quality</th></tr></thead><tbody><tr><td><i><div class=\"dni-plaintext\">0</div></i></td><td><div class=\"dni-plaintext\">9.4</div></td><td><div class=\"dni-plaintext\">0.24</div></td><td><div class=\"dni-plaintext\">0.33</div></td><td><div class=\"dni-plaintext\">2.3</div></td><td><div class=\"dni-plaintext\">0.061</div></td><td><div class=\"dni-plaintext\">52</div></td><td><div class=\"dni-plaintext\">73</div></td><td><div class=\"dni-plaintext\">0.99786</div></td><td><div class=\"dni-plaintext\">3.47</div></td><td><div class=\"dni-plaintext\">0.9</div></td><td><div class=\"dni-plaintext\">10.2</div></td><td><div class=\"dni-plaintext\">6</div></td></tr><tr><td><i><div class=\"dni-plaintext\">1</div></i></td><td><div class=\"dni-plaintext\">7</div></td><td><div class=\"dni-plaintext\">0.5</div></td><td><div class=\"dni-plaintext\">0.25</div></td><td><div class=\"dni-plaintext\">2</div></td><td><div class=\"dni-plaintext\">0.07</div></td><td><div class=\"dni-plaintext\">3</div></td><td><div class=\"dni-plaintext\">22</div></td><td><div class=\"dni-plaintext\">0.9963</div></td><td><div class=\"dni-plaintext\">3.25</div></td><td><div class=\"dni-plaintext\">0.63</div></td><td><div class=\"dni-plaintext\">9.2</div></td><td><div class=\"dni-plaintext\">5</div></td></tr><tr><td><i><div class=\"dni-plaintext\">2</div></i></td><td><div class=\"dni-plaintext\">11.2</div></td><td><div class=\"dni-plaintext\">0.4</div></td><td><div class=\"dni-plaintext\">0.5</div></td><td><div class=\"dni-plaintext\">2</div></td><td><div class=\"dni-plaintext\">0.099</div></td><td><div class=\"dni-plaintext\">19</div></td><td><div class=\"dni-plaintext\">50</div></td><td><div class=\"dni-plaintext\">0.99783</div></td><td><div class=\"dni-plaintext\">3.1</div></td><td><div class=\"dni-plaintext\">0.58</div></td><td><div class=\"dni-plaintext\">10.4</div></td><td><div class=\"dni-plaintext\">5</div></td></tr><tr><td><i><div class=\"dni-plaintext\">3</div></i></td><td><div class=\"dni-plaintext\">7</div></td><td><div class=\"dni-plaintext\">0.4</div></td><td><div class=\"dni-plaintext\">0.32</div></td><td><div class=\"dni-plaintext\">3.6</div></td><td><div class=\"dni-plaintext\">0.061</div></td><td><div class=\"dni-plaintext\">9</div></td><td><div class=\"dni-plaintext\">29</div></td><td><div class=\"dni-plaintext\">0.99416</div></td><td><div class=\"dni-plaintext\">3.28</div></td><td><div class=\"dni-plaintext\">0.49</div></td><td><div class=\"dni-plaintext\">11.3</div></td><td><div class=\"dni-plaintext\">7</div></td></tr><tr><td><i><div class=\"dni-plaintext\">4</div></i></td><td><div class=\"dni-plaintext\">7.1</div></td><td><div class=\"dni-plaintext\">0.43</div></td><td><div class=\"dni-plaintext\">0.42</div></td><td><div class=\"dni-plaintext\">5.5</div></td><td><div class=\"dni-plaintext\">0.071</div></td><td><div class=\"dni-plaintext\">28</div></td><td><div class=\"dni-plaintext\">128</div></td><td><div class=\"dni-plaintext\">0.9973</div></td><td><div class=\"dni-plaintext\">3.42</div></td><td><div class=\"dni-plaintext\">0.71</div></td><td><div class=\"dni-plaintext\">10.5</div></td><td><div class=\"dni-plaintext\">5</div></td></tr><tr><td><i><div class=\"dni-plaintext\">5</div></i></td><td><div class=\"dni-plaintext\">10.6</div></td><td><div class=\"dni-plaintext\">0.5</div></td><td><div class=\"dni-plaintext\">0.45</div></td><td><div class=\"dni-plaintext\">2.6</div></td><td><div class=\"dni-plaintext\">0.119</div></td><td><div class=\"dni-plaintext\">34</div></td><td><div class=\"dni-plaintext\">68</div></td><td><div class=\"dni-plaintext\">0.99708</div></td><td><div class=\"dni-plaintext\">3.23</div></td><td><div class=\"dni-plaintext\">0.72</div></td><td><div class=\"dni-plaintext\">10.9</div></td><td><div class=\"dni-plaintext\">6</div></td></tr><tr><td><i><div class=\"dni-plaintext\">6</div></i></td><td><div class=\"dni-plaintext\">7.1</div></td><td><div class=\"dni-plaintext\">0.16</div></td><td><div class=\"dni-plaintext\">0.44</div></td><td><div class=\"dni-plaintext\">2.5</div></td><td><div class=\"dni-plaintext\">0.068</div></td><td><div class=\"dni-plaintext\">17</div></td><td><div class=\"dni-plaintext\">31</div></td><td><div class=\"dni-plaintext\">0.99328</div></td><td><div class=\"dni-plaintext\">3.35</div></td><td><div class=\"dni-plaintext\">0.54</div></td><td><div class=\"dni-plaintext\">12.4</div></td><td><div class=\"dni-plaintext\">6</div></td></tr><tr><td><i><div class=\"dni-plaintext\">7</div></i></td><td><div class=\"dni-plaintext\">10.8</div></td><td><div class=\"dni-plaintext\">0.26</div></td><td><div class=\"dni-plaintext\">0.45</div></td><td><div class=\"dni-plaintext\">3.3</div></td><td><div class=\"dni-plaintext\">0.06</div></td><td><div class=\"dni-plaintext\">20</div></td><td><div class=\"dni-plaintext\">49</div></td><td><div class=\"dni-plaintext\">0.9972</div></td><td><div class=\"dni-plaintext\">3.13</div></td><td><div class=\"dni-plaintext\">0.54</div></td><td><div class=\"dni-plaintext\">9.6</div></td><td><div class=\"dni-plaintext\">5</div></td></tr><tr><td><i><div class=\"dni-plaintext\">8</div></i></td><td><div class=\"dni-plaintext\">8.4</div></td><td><div class=\"dni-plaintext\">0.62</div></td><td><div class=\"dni-plaintext\">0.09</div></td><td><div class=\"dni-plaintext\">2.2</div></td><td><div class=\"dni-plaintext\">0.084</div></td><td><div class=\"dni-plaintext\">11</div></td><td><div class=\"dni-plaintext\">108</div></td><td><div class=\"dni-plaintext\">0.9964</div></td><td><div class=\"dni-plaintext\">3.15</div></td><td><div class=\"dni-plaintext\">0.66</div></td><td><div class=\"dni-plaintext\">9.8</div></td><td><div class=\"dni-plaintext\">5</div></td></tr><tr><td><i><div class=\"dni-plaintext\">9</div></i></td><td><div class=\"dni-plaintext\">12</div></td><td><div class=\"dni-plaintext\">0.5</div></td><td><div class=\"dni-plaintext\">0.59</div></td><td><div class=\"dni-plaintext\">1.4</div></td><td><div class=\"dni-plaintext\">0.073</div></td><td><div class=\"dni-plaintext\">23</div></td><td><div class=\"dni-plaintext\">42</div></td><td><div class=\"dni-plaintext\">0.998</div></td><td><div class=\"dni-plaintext\">2.92</div></td><td><div class=\"dni-plaintext\">0.68</div></td><td><div class=\"dni-plaintext\">10.5</div></td><td><div class=\"dni-plaintext\">7</div></td></tr></tbody></table>"
      ]
     },
     "execution_count": 59,
     "metadata": {},
     "output_type": "execute_result"
    }
   ],
   "source": [
    "dfFromIDV.Sample(10)"
   ]
  },
  {
   "cell_type": "code",
   "execution_count": 37,
   "id": "61dc8753",
   "metadata": {},
   "outputs": [
    {
     "data": {
      "text/html": [
       "<table id=\"table_637748971731160994\"><thead><tr><th><i>index</i></th><th>fixed acidity</th><th>volatile acidity</th><th>CitricAcid</th><th>ResidualSugar</th><th>Chlorides</th><th>FreeSulfurDioxide</th><th>TotalSulfurDioxide</th><th>Density</th><th>Ph</th><th>Sulphates</th><th>Alcohol</th><th>Quality</th></tr></thead><tbody><tr><td><i><div class=\"dni-plaintext\">0</div></i></td><td><div class=\"dni-plaintext\">NaN</div></td><td><div class=\"dni-plaintext\">0</div></td><td><div class=\"dni-plaintext\">0</div></td><td><div class=\"dni-plaintext\">0</div></td><td><div class=\"dni-plaintext\">0</div></td><td><div class=\"dni-plaintext\">0</div></td><td><div class=\"dni-plaintext\">0</div></td><td><div class=\"dni-plaintext\">0</div></td><td><div class=\"dni-plaintext\">0</div></td><td><div class=\"dni-plaintext\">0</div></td><td><div class=\"dni-plaintext\">0</div></td><td><div class=\"dni-plaintext\">0</div></td></tr><tr><td><i><div class=\"dni-plaintext\">1</div></i></td><td><div class=\"dni-plaintext\">NaN</div></td><td><div class=\"dni-plaintext\">0</div></td><td><div class=\"dni-plaintext\">0</div></td><td><div class=\"dni-plaintext\">0</div></td><td><div class=\"dni-plaintext\">0</div></td><td><div class=\"dni-plaintext\">0</div></td><td><div class=\"dni-plaintext\">0</div></td><td><div class=\"dni-plaintext\">0</div></td><td><div class=\"dni-plaintext\">0</div></td><td><div class=\"dni-plaintext\">0</div></td><td><div class=\"dni-plaintext\">0</div></td><td><div class=\"dni-plaintext\">0</div></td></tr><tr><td><i><div class=\"dni-plaintext\">2</div></i></td><td><div class=\"dni-plaintext\">NaN</div></td><td><div class=\"dni-plaintext\">0</div></td><td><div class=\"dni-plaintext\">0</div></td><td><div class=\"dni-plaintext\">0</div></td><td><div class=\"dni-plaintext\">0</div></td><td><div class=\"dni-plaintext\">0</div></td><td><div class=\"dni-plaintext\">0</div></td><td><div class=\"dni-plaintext\">0</div></td><td><div class=\"dni-plaintext\">0</div></td><td><div class=\"dni-plaintext\">0</div></td><td><div class=\"dni-plaintext\">0</div></td><td><div class=\"dni-plaintext\">0</div></td></tr><tr><td><i><div class=\"dni-plaintext\">3</div></i></td><td><div class=\"dni-plaintext\">NaN</div></td><td><div class=\"dni-plaintext\">0</div></td><td><div class=\"dni-plaintext\">0</div></td><td><div class=\"dni-plaintext\">0</div></td><td><div class=\"dni-plaintext\">0</div></td><td><div class=\"dni-plaintext\">0</div></td><td><div class=\"dni-plaintext\">0</div></td><td><div class=\"dni-plaintext\">0</div></td><td><div class=\"dni-plaintext\">0</div></td><td><div class=\"dni-plaintext\">0</div></td><td><div class=\"dni-plaintext\">0</div></td><td><div class=\"dni-plaintext\">0</div></td></tr><tr><td><i><div class=\"dni-plaintext\">4</div></i></td><td><div class=\"dni-plaintext\">NaN</div></td><td><div class=\"dni-plaintext\">0</div></td><td><div class=\"dni-plaintext\">0</div></td><td><div class=\"dni-plaintext\">0</div></td><td><div class=\"dni-plaintext\">0</div></td><td><div class=\"dni-plaintext\">0</div></td><td><div class=\"dni-plaintext\">0</div></td><td><div class=\"dni-plaintext\">0</div></td><td><div class=\"dni-plaintext\">0</div></td><td><div class=\"dni-plaintext\">0</div></td><td><div class=\"dni-plaintext\">0</div></td><td><div class=\"dni-plaintext\">0</div></td></tr><tr><td><i><div class=\"dni-plaintext\">5</div></i></td><td><div class=\"dni-plaintext\">NaN</div></td><td><div class=\"dni-plaintext\">0</div></td><td><div class=\"dni-plaintext\">0</div></td><td><div class=\"dni-plaintext\">0</div></td><td><div class=\"dni-plaintext\">0</div></td><td><div class=\"dni-plaintext\">0</div></td><td><div class=\"dni-plaintext\">0</div></td><td><div class=\"dni-plaintext\">0</div></td><td><div class=\"dni-plaintext\">0</div></td><td><div class=\"dni-plaintext\">0</div></td><td><div class=\"dni-plaintext\">0</div></td><td><div class=\"dni-plaintext\">0</div></td></tr><tr><td><i><div class=\"dni-plaintext\">6</div></i></td><td><div class=\"dni-plaintext\">NaN</div></td><td><div class=\"dni-plaintext\">0</div></td><td><div class=\"dni-plaintext\">0</div></td><td><div class=\"dni-plaintext\">0</div></td><td><div class=\"dni-plaintext\">0</div></td><td><div class=\"dni-plaintext\">0</div></td><td><div class=\"dni-plaintext\">0</div></td><td><div class=\"dni-plaintext\">0</div></td><td><div class=\"dni-plaintext\">0</div></td><td><div class=\"dni-plaintext\">0</div></td><td><div class=\"dni-plaintext\">0</div></td><td><div class=\"dni-plaintext\">0</div></td></tr><tr><td><i><div class=\"dni-plaintext\">7</div></i></td><td><div class=\"dni-plaintext\">NaN</div></td><td><div class=\"dni-plaintext\">0</div></td><td><div class=\"dni-plaintext\">0</div></td><td><div class=\"dni-plaintext\">0</div></td><td><div class=\"dni-plaintext\">0</div></td><td><div class=\"dni-plaintext\">0</div></td><td><div class=\"dni-plaintext\">0</div></td><td><div class=\"dni-plaintext\">0</div></td><td><div class=\"dni-plaintext\">0</div></td><td><div class=\"dni-plaintext\">0</div></td><td><div class=\"dni-plaintext\">0</div></td><td><div class=\"dni-plaintext\">0</div></td></tr><tr><td><i><div class=\"dni-plaintext\">8</div></i></td><td><div class=\"dni-plaintext\">NaN</div></td><td><div class=\"dni-plaintext\">0</div></td><td><div class=\"dni-plaintext\">0</div></td><td><div class=\"dni-plaintext\">0</div></td><td><div class=\"dni-plaintext\">0</div></td><td><div class=\"dni-plaintext\">0</div></td><td><div class=\"dni-plaintext\">0</div></td><td><div class=\"dni-plaintext\">0</div></td><td><div class=\"dni-plaintext\">0</div></td><td><div class=\"dni-plaintext\">0</div></td><td><div class=\"dni-plaintext\">0</div></td><td><div class=\"dni-plaintext\">0</div></td></tr><tr><td><i><div class=\"dni-plaintext\">9</div></i></td><td><div class=\"dni-plaintext\">NaN</div></td><td><div class=\"dni-plaintext\">0</div></td><td><div class=\"dni-plaintext\">0</div></td><td><div class=\"dni-plaintext\">0</div></td><td><div class=\"dni-plaintext\">0</div></td><td><div class=\"dni-plaintext\">0</div></td><td><div class=\"dni-plaintext\">0</div></td><td><div class=\"dni-plaintext\">0</div></td><td><div class=\"dni-plaintext\">0</div></td><td><div class=\"dni-plaintext\">0</div></td><td><div class=\"dni-plaintext\">0</div></td><td><div class=\"dni-plaintext\">0</div></td></tr></tbody></table>"
      ]
     },
     "execution_count": 37,
     "metadata": {},
     "output_type": "execute_result"
    }
   ],
   "source": [
    "dfFromIDV.Sample(10)"
   ]
  },
  {
   "cell_type": "code",
   "execution_count": null,
   "id": "3f0903ad",
   "metadata": {},
   "outputs": [],
   "source": []
  }
 ],
 "metadata": {
  "kernelspec": {
   "display_name": ".NET (C#)",
   "language": "C#",
   "name": ".net-csharp"
  },
  "language_info": {
   "file_extension": ".cs",
   "mimetype": "text/x-csharp",
   "name": "C#",
   "pygments_lexer": "csharp",
   "version": "9.0"
  }
 },
 "nbformat": 4,
 "nbformat_minor": 5
}
